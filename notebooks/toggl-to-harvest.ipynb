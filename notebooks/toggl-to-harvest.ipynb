{
  "cells": [
    {
      "cell_type": "code",
      "execution_count": null,
      "metadata": {},
      "outputs": [],
      "source": [
        "from compiler_admin.services.google import user_info as google_user_info\n",
        "import json\n",
        "import os\n",
        "from pathlib import Path\n",
        "import pandas as pd\n",
        "\n",
        "\n",
        "DATA_DIR = Path(\"./data\")\n",
        "DATA_SOURCE = Path(os.environ.get(\"TOGGL_DATA\", \"./data/toggl-sample.csv\"))\n",
        "\n",
        "USER_INFO_FILE = os.environ.get(\"TOGGL_USER_INFO\")\n",
        "\n",
        "CLIENT_NAME = os.environ.get(\"HARVEST_CLIENT_NAME\")\n",
        "\n",
        "\n",
        "def str_timedelta(td):\n",
        "    \"\"\"\n",
        "    Convert a string formatted duration (e.g. 01:30) to a timedelta.\n",
        "    \"\"\"\n",
        "    return pd.to_timedelta(pd.to_datetime(td, format=\"%H:%M:%S\").strftime(\"%H:%M:%S\"))\n",
        "\n",
        "\n",
        "def read_user_info():\n",
        "    with open(USER_INFO_FILE, \"r\") as ui:\n",
        "        return json.load(ui)\n",
        "\n",
        "\n",
        "def write_user_info(info):\n",
        "    with open(USER_INFO_FILE, \"w\") as ui:\n",
        "        json.dump(info, ui, indent=2)"
      ]
    },
    {
      "cell_type": "code",
      "execution_count": null,
      "metadata": {},
      "outputs": [],
      "source": [
        "# assign category dtype for efficiency on repeating text columns\n",
        "dtypes = {\n",
        "    \"Email\": \"category\",\n",
        "    \"Task\": \"category\",\n",
        "    \"Client\": \"category\"\n",
        "}\n",
        "# skip reading the columns we don't care about for Harvest\n",
        "cols = list(dtypes) + [\n",
        "    \"Start date\",\n",
        "    \"Start time\",\n",
        "    \"Duration\",\n",
        "]\n",
        "# read CSV file, parsing dates and times\n",
        "source = pd.read_csv(DATA_SOURCE, dtype=dtypes, usecols=cols, parse_dates=[\"Start date\"], cache_dates=True)\n",
        "source[\"Start time\"] = source[\"Start time\"].apply(str_timedelta)\n",
        "source[\"Duration\"] = source[\"Duration\"].apply(str_timedelta)\n",
        "source.sort_values([\"Start date\", \"Start time\", \"Email\"], inplace=True)\n",
        "source.dtypes"
      ]
    },
    {
      "cell_type": "code",
      "execution_count": null,
      "metadata": {},
      "outputs": [],
      "source": [
        "# rename columns that can be imported as-is\n",
        "source.rename(columns={\"Task\": \"Project\", \"Description\": \"Notes\", \"Start date\": \"Date\"}, inplace=True)\n",
        "source.dtypes"
      ]
    },
    {
      "cell_type": "code",
      "execution_count": null,
      "metadata": {},
      "outputs": [],
      "source": [
        "# update static calculated columns\n",
        "source[\"Client\"] = CLIENT_NAME\n",
        "source[\"Client\"] = source[\"Client\"].astype(\"category\")\n",
        "source[\"Task\"] = \"Project Consulting\"\n",
        "source[\"Task\"] = source[\"Task\"].astype(\"category\")"
      ]
    },
    {
      "cell_type": "code",
      "execution_count": null,
      "metadata": {},
      "outputs": [],
      "source": [
        "# cache of previously seen user information, keyed on email\n",
        "USER_INFO = {}\n",
        "NOT_FOUND = \"NOT FOUND\"\n",
        "\n",
        "if USER_INFO_FILE:\n",
        "    file_info = read_user_info()\n",
        "    USER_INFO.update(file_info)\n",
        "    print(f\"User info: {', '.join(USER_INFO.keys())}\")"
      ]
    },
    {
      "cell_type": "code",
      "execution_count": null,
      "metadata": {},
      "outputs": [],
      "source": [
        "# get cached first name or derive from email\n",
        "def get_first_name(email: str):\n",
        "    user = USER_INFO.get(email)\n",
        "    first_name = user.get(\"First Name\") if user else None\n",
        "    if first_name is None:\n",
        "        parts = email.split(\"@\")\n",
        "        first_name = parts[0].capitalize()\n",
        "        data = {\"First Name\": first_name}\n",
        "        if email in USER_INFO:\n",
        "            USER_INFO[email].update(data)\n",
        "        else:\n",
        "            USER_INFO[email] = data\n",
        "    return first_name\n",
        "\n",
        "source[\"First Name\"] = source[\"Email\"].apply(get_first_name)\n",
        "source[\"First Name\"] = source[\"First Name\"].astype(\"category\")\n",
        "source.dtypes"
      ]
    },
    {
      "cell_type": "code",
      "execution_count": null,
      "metadata": {},
      "outputs": [],
      "source": [
        "# Get cached last name or query from Google\n",
        "def get_last_name(email: str):\n",
        "    user = USER_INFO.get(email)\n",
        "    last_name = user.get(\"Last Name\") if user else None\n",
        "    if last_name is None:\n",
        "        user = google_user_info(email)\n",
        "        last_name = user.get(\"Last Name\") if user else None\n",
        "        if email in USER_INFO:\n",
        "            USER_INFO[email].update(user)\n",
        "        else:\n",
        "            USER_INFO[email] = user\n",
        "    return last_name\n",
        "\n",
        "source[\"Last Name\"] = source[\"Email\"].apply(get_last_name)\n",
        "source[\"Last Name\"] = source[\"Last Name\"].astype(\"category\")\n",
        "source.dtypes"
      ]
    },
    {
      "cell_type": "code",
      "execution_count": null,
      "metadata": {},
      "outputs": [],
      "source": [
        "if len(USER_INFO) > 0 and USER_INFO_FILE:\n",
        "    write_user_info(USER_INFO)"
      ]
    }
  ],
  "metadata": {
    "kernelspec": {
      "display_name": "Python 3",
      "language": "python",
      "name": "python3"
    },
    "language_info": {
      "codemirror_mode": {
        "name": "ipython",
        "version": 3
      },
      "file_extension": ".py",
      "mimetype": "text/x-python",
      "name": "python",
      "nbconvert_exporter": "python",
      "pygments_lexer": "ipython3",
      "version": "3.11.6"
    }
  },
  "nbformat": 4,
  "nbformat_minor": 2
}
