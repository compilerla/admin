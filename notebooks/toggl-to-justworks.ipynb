{
  "cells": [
    {
      "cell_type": "markdown",
      "metadata": {},
      "source": [
        "# Toggl to Justworks conversion\n",
        "\n",
        "This notebook explores a conversion process for Toggl hours into a format for import into Justworks.\n",
        "\n",
        "Toggl hours are tracked daily, and we can export a report of each entry in Toggl.\n",
        "\n",
        "Justworks expects a rollup of total hours per-person per-week."
      ]
    },
    {
      "cell_type": "code",
      "execution_count": null,
      "metadata": {},
      "outputs": [],
      "source": [
        "import pandas as pd\n",
        "\n",
        "from compiler_admin.services.toggl import _prepare_input\n",
        "from compiler_admin.services import files"
      ]
    },
    {
      "cell_type": "code",
      "execution_count": null,
      "metadata": {},
      "outputs": [],
      "source": [
        "renames = {\n",
        "    \"Email\": \"Work Email\",\n",
        "    \"First name\": \"First Name\",\n",
        "    \"Hours\": \"Regular Hours\",\n",
        "    \"Last name\": \"Last Name\",\n",
        "    \"Start date\": \"Start Date\"\n",
        "}\n",
        "df = _prepare_input(\"./data/toggl-sample.csv\", column_renames=renames)\n",
        "df.head()"
      ]
    },
    {
      "cell_type": "code",
      "execution_count": null,
      "metadata": {},
      "outputs": [],
      "source": [
        "cols = [\"Work Email\", \"First Name\", \"Last Name\", \"Start Date\"]\n",
        "df_people = df.sort_values(cols).groupby(cols, observed=False)\n",
        "df_people_agg = df_people.agg({\"Regular Hours\": \"sum\"})\n",
        "df_people_agg.reset_index(inplace=True)\n",
        "df_people_agg.head()"
      ]
    },
    {
      "cell_type": "code",
      "execution_count": null,
      "metadata": {},
      "outputs": [],
      "source": [
        "cols = [\"Work Email\", \"First Name\", \"Last Name\"]\n",
        "weekly_agg = df_people_agg.groupby(cols).resample(\"W\", label=\"left\", on=\"Start Date\")\n",
        "weekly_agg = weekly_agg[\"Regular Hours\"].sum().round(1).reset_index()\n",
        "weekly_agg.head()"
      ]
    },
    {
      "cell_type": "code",
      "execution_count": null,
      "metadata": {},
      "outputs": [],
      "source": [
        "weekly_agg[\"End Date\"] = weekly_agg[\"Start Date\"] + pd.Timedelta(days=6)\n",
        "weekly_agg.head()"
      ]
    },
    {
      "cell_type": "code",
      "execution_count": null,
      "metadata": {},
      "outputs": [],
      "source": [
        "files.write_csv(\"./data/justworks-sample.csv\", weekly_agg, columns=[\"First Name\", \"Last Name\", \"Work Email\", \"Start Date\", \"End Date\", \"Regular Hours\"])"
      ]
    }
  ],
  "metadata": {
    "kernelspec": {
      "display_name": "Python 3",
      "language": "python",
      "name": "python3"
    },
    "language_info": {
      "codemirror_mode": {
        "name": "ipython",
        "version": 3
      },
      "file_extension": ".py",
      "mimetype": "text/x-python",
      "name": "python",
      "nbconvert_exporter": "python",
      "pygments_lexer": "ipython3",
      "version": "3.11.11"
    }
  },
  "nbformat": 4,
  "nbformat_minor": 2
}
