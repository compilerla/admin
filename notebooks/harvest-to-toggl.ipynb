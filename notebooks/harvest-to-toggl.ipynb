{
 "cells": [
  {
   "cell_type": "code",
   "execution_count": null,
   "metadata": {},
   "outputs": [],
   "source": [
    "from datetime import datetime, timedelta\n",
    "import os\n",
    "from pathlib import Path\n",
    "import pandas as pd\n",
    "\n",
    "\n",
    "def duration_str(duration: timedelta):\n",
    "    \"\"\"\n",
    "    Use total seconds to convert to a datetime and format as a string e.g. 01:30\n",
    "    \"\"\"\n",
    "    return datetime.fromtimestamp(duration.total_seconds()).strftime(\"%H:%M\")\n",
    "\n",
    "\n",
    "DATA_DIR = Path(\"./data\")\n",
    "DATA_SOURCE = Path(os.environ.get(\"HARVEST_DATA\", \"./data/harvest-sample.csv\"))"
   ]
  },
  {
   "cell_type": "code",
   "execution_count": null,
   "metadata": {},
   "outputs": [],
   "source": [
    "# assign category dtype for efficiency on repeating text columns\n",
    "dtypes = {\n",
    "    \"Client\": \"category\",\n",
    "    \"Project\": \"category\",\n",
    "    \"First Name\": \"category\",\n",
    "    \"Last Name\": \"category\",\n",
    "}\n",
    "# skip reading the columns we don't care about for Toggl\n",
    "cols = list(dtypes) + [\n",
    "    \"Date\",\n",
    "    \"Notes\",\n",
    "    \"Hours\",\n",
    "]\n",
    "# read CSV file, parsing dates\n",
    "source = pd.read_csv(DATA_SOURCE, dtype=dtypes, usecols=cols, parse_dates=[\"Date\"], cache_dates=True)\n",
    "source.dtypes"
   ]
  },
  {
   "cell_type": "code",
   "execution_count": null,
   "metadata": {},
   "outputs": [],
   "source": [
    "# rename columns that can be imported as-is\n",
    "source.rename(columns={\"Project\": \"Task\", \"Notes\": \"Description\", \"Date\": \"Start Date\"}, inplace=True)\n",
    "source.dtypes"
   ]
  },
  {
   "cell_type": "code",
   "execution_count": null,
   "metadata": {},
   "outputs": [],
   "source": [
    "# update static calculated columns\n",
    "source[\"Client\"] = \"Xentrans\"\n",
    "source[\"Client\"] = source[\"Client\"].astype(\"category\")\n",
    "source[\"Project\"] = \"Xentrans\"\n",
    "source[\"Project\"] = source[\"Project\"].astype(\"category\")\n",
    "source[\"Billable\"] = \"Yes\"\n",
    "source[\"Billable\"] = source[\"Billable\"].astype(\"category\")\n",
    "source.dtypes"
   ]
  },
  {
   "cell_type": "code",
   "execution_count": null,
   "metadata": {},
   "outputs": [],
   "source": [
    "# add the Email column\n",
    "source[\"Email\"] = source[\"First Name\"].apply(lambda x: f\"{x.lower()}@compiler.la\").astype(\"category\")\n",
    "# drop individual name columns\n",
    "source.drop(columns=[\"First Name\", \"Last Name\"], inplace=True)\n",
    "source.dtypes"
   ]
  },
  {
   "cell_type": "code",
   "execution_count": null,
   "metadata": {},
   "outputs": [],
   "source": [
    "# Convert numeric Hours to string Duration\n",
    "source[\"Duration\"] = source[\"Hours\"].apply(\n",
    "    # first convert the numeric hours e.g. 1.5 to a timedelta\n",
    "    lambda x: duration_str(pd.to_timedelta(x, unit=\"hours\"))\n",
    ")"
   ]
  }
 ],
 "metadata": {
  "kernelspec": {
   "display_name": "Python 3",
   "language": "python",
   "name": "python3"
  },
  "language_info": {
   "codemirror_mode": {
    "name": "ipython",
    "version": 3
   },
   "file_extension": ".py",
   "mimetype": "text/x-python",
   "name": "python",
   "nbconvert_exporter": "python",
   "pygments_lexer": "ipython3",
   "version": "3.11.6"
  }
 },
 "nbformat": 4,
 "nbformat_minor": 2
}
